{
 "cells": [
  {
   "cell_type": "markdown",
   "metadata": {},
   "source": [
    "# BackTesting"
   ]
  },
  {
   "cell_type": "markdown",
   "metadata": {},
   "source": [
    "Import Libraries"
   ]
  },
  {
   "cell_type": "code",
   "execution_count": 2,
   "metadata": {},
   "outputs": [],
   "source": [
    "import yfinance as yf\n",
    "import ta\n",
    "import pandas as pd\n",
    "from backtesting import Backtest, Strategy\n",
    "from backtesting.lib import crossover "
   ]
  },
  {
   "cell_type": "markdown",
   "metadata": {},
   "source": [
    "Creating a class SMAcross which is inheriting from Strategy(imported from Backtesting library)\n",
    "SMA is Simple Moving Average\n",
    "We want to define short term simple moving average window and long term SMA window"
   ]
  },
  {
   "cell_type": "code",
   "execution_count": 3,
   "metadata": {},
   "outputs": [],
   "source": [
    "class SMAcross(Strategy):\n",
    "\n",
    "    ShortTerm_SMA_Window = 50   # It could be in timestep or days\n",
    "    LongTerm_SMA_Window = 100 \n",
    "\n",
    "    def init(self):\n",
    "        close = self.data.Close # Close Price, Data is provided in seconds\n",
    "        self.sma1 = self.I(ta.trend.sma_indicator, pd.Series(close), self.ShortTerm_SMA_Window ) # Defining short term SMA using I\n",
    "        self.sma2 = self.I(ta.trend.sma_indicator, pd.Series(close), self.LongTerm_SMA_Window ) # Defining long term SMA using I\n",
    "    \n",
    "    def next(self):\n",
    "        \"\"\"Buy when we have a cross over of short term sma to long term sma\n",
    "        When long term sma crosses over short term we want to sell\"\"\"\n",
    "        if crossover(self.sma1, self.sma2):\n",
    "            self.buy()\n",
    "        elif crossover(self.sma2, self.sma1):\n",
    "            self.sell()"
   ]
  },
  {
   "cell_type": "code",
   "execution_count": 4,
   "metadata": {},
   "outputs": [
    {
     "name": "stdout",
     "output_type": "stream",
     "text": [
      "[*********************100%***********************]  1 of 1 completed\n"
     ]
    }
   ],
   "source": [
    "df = yf.download('HDFC.NS', start='2018-01-01')"
   ]
  },
  {
   "cell_type": "code",
   "execution_count": 5,
   "metadata": {},
   "outputs": [
    {
     "data": {
      "text/html": [
       "<div>\n",
       "<style scoped>\n",
       "    .dataframe tbody tr th:only-of-type {\n",
       "        vertical-align: middle;\n",
       "    }\n",
       "\n",
       "    .dataframe tbody tr th {\n",
       "        vertical-align: top;\n",
       "    }\n",
       "\n",
       "    .dataframe thead th {\n",
       "        text-align: right;\n",
       "    }\n",
       "</style>\n",
       "<table border=\"1\" class=\"dataframe\">\n",
       "  <thead>\n",
       "    <tr style=\"text-align: right;\">\n",
       "      <th></th>\n",
       "      <th>Open</th>\n",
       "      <th>High</th>\n",
       "      <th>Low</th>\n",
       "      <th>Close</th>\n",
       "      <th>Adj Close</th>\n",
       "      <th>Volume</th>\n",
       "    </tr>\n",
       "    <tr>\n",
       "      <th>Date</th>\n",
       "      <th></th>\n",
       "      <th></th>\n",
       "      <th></th>\n",
       "      <th></th>\n",
       "      <th></th>\n",
       "      <th></th>\n",
       "    </tr>\n",
       "  </thead>\n",
       "  <tbody>\n",
       "    <tr>\n",
       "      <th>2018-01-01</th>\n",
       "      <td>1710.000000</td>\n",
       "      <td>1711.050049</td>\n",
       "      <td>1677.500000</td>\n",
       "      <td>1683.750000</td>\n",
       "      <td>1568.358032</td>\n",
       "      <td>1387222</td>\n",
       "    </tr>\n",
       "    <tr>\n",
       "      <th>2018-01-02</th>\n",
       "      <td>1690.000000</td>\n",
       "      <td>1706.250000</td>\n",
       "      <td>1685.400024</td>\n",
       "      <td>1703.250000</td>\n",
       "      <td>1586.521606</td>\n",
       "      <td>1468475</td>\n",
       "    </tr>\n",
       "    <tr>\n",
       "      <th>2018-01-03</th>\n",
       "      <td>1705.199951</td>\n",
       "      <td>1711.800049</td>\n",
       "      <td>1695.000000</td>\n",
       "      <td>1700.800049</td>\n",
       "      <td>1584.239624</td>\n",
       "      <td>2133332</td>\n",
       "    </tr>\n",
       "    <tr>\n",
       "      <th>2018-01-04</th>\n",
       "      <td>1708.949951</td>\n",
       "      <td>1708.949951</td>\n",
       "      <td>1691.050049</td>\n",
       "      <td>1703.199951</td>\n",
       "      <td>1586.475098</td>\n",
       "      <td>1585554</td>\n",
       "    </tr>\n",
       "    <tr>\n",
       "      <th>2018-01-05</th>\n",
       "      <td>1716.000000</td>\n",
       "      <td>1731.000000</td>\n",
       "      <td>1705.849976</td>\n",
       "      <td>1725.199951</td>\n",
       "      <td>1606.967285</td>\n",
       "      <td>2302884</td>\n",
       "    </tr>\n",
       "    <tr>\n",
       "      <th>...</th>\n",
       "      <td>...</td>\n",
       "      <td>...</td>\n",
       "      <td>...</td>\n",
       "      <td>...</td>\n",
       "      <td>...</td>\n",
       "      <td>...</td>\n",
       "    </tr>\n",
       "    <tr>\n",
       "      <th>2022-06-13</th>\n",
       "      <td>2115.000000</td>\n",
       "      <td>2137.649902</td>\n",
       "      <td>2089.350098</td>\n",
       "      <td>2128.449951</td>\n",
       "      <td>2128.449951</td>\n",
       "      <td>3700786</td>\n",
       "    </tr>\n",
       "    <tr>\n",
       "      <th>2022-06-14</th>\n",
       "      <td>2094.000000</td>\n",
       "      <td>2132.000000</td>\n",
       "      <td>2090.050049</td>\n",
       "      <td>2109.500000</td>\n",
       "      <td>2109.500000</td>\n",
       "      <td>3631959</td>\n",
       "    </tr>\n",
       "    <tr>\n",
       "      <th>2022-06-15</th>\n",
       "      <td>2097.000000</td>\n",
       "      <td>2110.949951</td>\n",
       "      <td>2071.300049</td>\n",
       "      <td>2105.449951</td>\n",
       "      <td>2105.449951</td>\n",
       "      <td>4365287</td>\n",
       "    </tr>\n",
       "    <tr>\n",
       "      <th>2022-06-16</th>\n",
       "      <td>2115.350098</td>\n",
       "      <td>2133.800049</td>\n",
       "      <td>2050.000000</td>\n",
       "      <td>2056.500000</td>\n",
       "      <td>2056.500000</td>\n",
       "      <td>3189251</td>\n",
       "    </tr>\n",
       "    <tr>\n",
       "      <th>2022-06-17</th>\n",
       "      <td>2035.000000</td>\n",
       "      <td>2064.899902</td>\n",
       "      <td>2026.000000</td>\n",
       "      <td>2052.699951</td>\n",
       "      <td>2052.699951</td>\n",
       "      <td>5009613</td>\n",
       "    </tr>\n",
       "  </tbody>\n",
       "</table>\n",
       "<p>1102 rows × 6 columns</p>\n",
       "</div>"
      ],
      "text/plain": [
       "                   Open         High          Low        Close    Adj Close  \\\n",
       "Date                                                                          \n",
       "2018-01-01  1710.000000  1711.050049  1677.500000  1683.750000  1568.358032   \n",
       "2018-01-02  1690.000000  1706.250000  1685.400024  1703.250000  1586.521606   \n",
       "2018-01-03  1705.199951  1711.800049  1695.000000  1700.800049  1584.239624   \n",
       "2018-01-04  1708.949951  1708.949951  1691.050049  1703.199951  1586.475098   \n",
       "2018-01-05  1716.000000  1731.000000  1705.849976  1725.199951  1606.967285   \n",
       "...                 ...          ...          ...          ...          ...   \n",
       "2022-06-13  2115.000000  2137.649902  2089.350098  2128.449951  2128.449951   \n",
       "2022-06-14  2094.000000  2132.000000  2090.050049  2109.500000  2109.500000   \n",
       "2022-06-15  2097.000000  2110.949951  2071.300049  2105.449951  2105.449951   \n",
       "2022-06-16  2115.350098  2133.800049  2050.000000  2056.500000  2056.500000   \n",
       "2022-06-17  2035.000000  2064.899902  2026.000000  2052.699951  2052.699951   \n",
       "\n",
       "             Volume  \n",
       "Date                 \n",
       "2018-01-01  1387222  \n",
       "2018-01-02  1468475  \n",
       "2018-01-03  2133332  \n",
       "2018-01-04  1585554  \n",
       "2018-01-05  2302884  \n",
       "...             ...  \n",
       "2022-06-13  3700786  \n",
       "2022-06-14  3631959  \n",
       "2022-06-15  4365287  \n",
       "2022-06-16  3189251  \n",
       "2022-06-17  5009613  \n",
       "\n",
       "[1102 rows x 6 columns]"
      ]
     },
     "execution_count": 5,
     "metadata": {},
     "output_type": "execute_result"
    }
   ],
   "source": [
    "df"
   ]
  },
  {
   "cell_type": "code",
   "execution_count": 7,
   "metadata": {},
   "outputs": [],
   "source": [
    "bt = Backtest(df, SMAcross, cash=100000, commission=0.002, exclusive_orders=True)"
   ]
  },
  {
   "cell_type": "code",
   "execution_count": 8,
   "metadata": {},
   "outputs": [],
   "source": [
    "output = bt.run()"
   ]
  },
  {
   "cell_type": "code",
   "execution_count": 9,
   "metadata": {},
   "outputs": [
    {
     "data": {
      "text/plain": [
       "Start                     2018-01-01 00:00:00\n",
       "End                       2022-06-17 00:00:00\n",
       "Duration                   1628 days 00:00:00\n",
       "Exposure Time [%]                   82.486388\n",
       "Equity Final [$]                 75333.679211\n",
       "Equity Peak [$]                 108710.888959\n",
       "Return [%]                         -24.666321\n",
       "Buy & Hold Return [%]               21.912395\n",
       "Return (Ann.) [%]                   -6.271755\n",
       "Volatility (Ann.) [%]               30.550403\n",
       "Sharpe Ratio                              0.0\n",
       "Sortino Ratio                             0.0\n",
       "Calmar Ratio                              0.0\n",
       "Max. Drawdown [%]                  -57.641684\n",
       "Avg. Drawdown [%]                  -18.673387\n",
       "Max. Drawdown Duration     1065 days 00:00:00\n",
       "Avg. Drawdown Duration      268 days 00:00:00\n",
       "# Trades                                   13\n",
       "Win Rate [%]                        53.846154\n",
       "Best Trade [%]                      21.755986\n",
       "Worst Trade [%]                    -29.812986\n",
       "Avg. Trade [%]                      -2.156489\n",
       "Max. Trade Duration         194 days 00:00:00\n",
       "Avg. Trade Duration         104 days 00:00:00\n",
       "Profit Factor                        0.818381\n",
       "Expectancy [%]                      -1.129451\n",
       "SQN                                 -0.626724\n",
       "_strategy                            SMAcross\n",
       "_equity_curve                             ...\n",
       "_trades                       Size  EntryB...\n",
       "dtype: object"
      ]
     },
     "execution_count": 9,
     "metadata": {},
     "output_type": "execute_result"
    }
   ],
   "source": [
    "output"
   ]
  },
  {
   "cell_type": "code",
   "execution_count": 10,
   "metadata": {},
   "outputs": [
    {
     "data": {
      "text/html": [
       "<div style=\"display: table;\"><div style=\"display: table-row;\"><div style=\"display: table-cell;\"><b title=\"bokeh.models.layouts.Row\">Row</b>(</div><div style=\"display: table-cell;\">id&nbsp;=&nbsp;'1449', <span id=\"2063\" style=\"cursor: pointer;\">&hellip;)</span></div></div><div class=\"2062\" style=\"display: none;\"><div style=\"display: table-cell;\"></div><div style=\"display: table-cell;\">align&nbsp;=&nbsp;'start',</div></div><div class=\"2062\" style=\"display: none;\"><div style=\"display: table-cell;\"></div><div style=\"display: table-cell;\">aspect_ratio&nbsp;=&nbsp;None,</div></div><div class=\"2062\" style=\"display: none;\"><div style=\"display: table-cell;\"></div><div style=\"display: table-cell;\">background&nbsp;=&nbsp;None,</div></div><div class=\"2062\" style=\"display: none;\"><div style=\"display: table-cell;\"></div><div style=\"display: table-cell;\">children&nbsp;=&nbsp;[GridBox(id='1446', ...), ToolbarBox(id='1448', ...)],</div></div><div class=\"2062\" style=\"display: none;\"><div style=\"display: table-cell;\"></div><div style=\"display: table-cell;\">cols&nbsp;=&nbsp;'auto',</div></div><div class=\"2062\" style=\"display: none;\"><div style=\"display: table-cell;\"></div><div style=\"display: table-cell;\">css_classes&nbsp;=&nbsp;[],</div></div><div class=\"2062\" style=\"display: none;\"><div style=\"display: table-cell;\"></div><div style=\"display: table-cell;\">disabled&nbsp;=&nbsp;False,</div></div><div class=\"2062\" style=\"display: none;\"><div style=\"display: table-cell;\"></div><div style=\"display: table-cell;\">height&nbsp;=&nbsp;None,</div></div><div class=\"2062\" style=\"display: none;\"><div style=\"display: table-cell;\"></div><div style=\"display: table-cell;\">height_policy&nbsp;=&nbsp;'auto',</div></div><div class=\"2062\" style=\"display: none;\"><div style=\"display: table-cell;\"></div><div style=\"display: table-cell;\">js_event_callbacks&nbsp;=&nbsp;{},</div></div><div class=\"2062\" style=\"display: none;\"><div style=\"display: table-cell;\"></div><div style=\"display: table-cell;\">js_property_callbacks&nbsp;=&nbsp;{},</div></div><div class=\"2062\" style=\"display: none;\"><div style=\"display: table-cell;\"></div><div style=\"display: table-cell;\">margin&nbsp;=&nbsp;(0, 0, 0, 0),</div></div><div class=\"2062\" style=\"display: none;\"><div style=\"display: table-cell;\"></div><div style=\"display: table-cell;\">max_height&nbsp;=&nbsp;None,</div></div><div class=\"2062\" style=\"display: none;\"><div style=\"display: table-cell;\"></div><div style=\"display: table-cell;\">max_width&nbsp;=&nbsp;None,</div></div><div class=\"2062\" style=\"display: none;\"><div style=\"display: table-cell;\"></div><div style=\"display: table-cell;\">min_height&nbsp;=&nbsp;None,</div></div><div class=\"2062\" style=\"display: none;\"><div style=\"display: table-cell;\"></div><div style=\"display: table-cell;\">min_width&nbsp;=&nbsp;None,</div></div><div class=\"2062\" style=\"display: none;\"><div style=\"display: table-cell;\"></div><div style=\"display: table-cell;\">name&nbsp;=&nbsp;None,</div></div><div class=\"2062\" style=\"display: none;\"><div style=\"display: table-cell;\"></div><div style=\"display: table-cell;\">sizing_mode&nbsp;=&nbsp;'stretch_width',</div></div><div class=\"2062\" style=\"display: none;\"><div style=\"display: table-cell;\"></div><div style=\"display: table-cell;\">spacing&nbsp;=&nbsp;0,</div></div><div class=\"2062\" style=\"display: none;\"><div style=\"display: table-cell;\"></div><div style=\"display: table-cell;\">subscribed_events&nbsp;=&nbsp;[],</div></div><div class=\"2062\" style=\"display: none;\"><div style=\"display: table-cell;\"></div><div style=\"display: table-cell;\">syncable&nbsp;=&nbsp;True,</div></div><div class=\"2062\" style=\"display: none;\"><div style=\"display: table-cell;\"></div><div style=\"display: table-cell;\">tags&nbsp;=&nbsp;[],</div></div><div class=\"2062\" style=\"display: none;\"><div style=\"display: table-cell;\"></div><div style=\"display: table-cell;\">visible&nbsp;=&nbsp;True,</div></div><div class=\"2062\" style=\"display: none;\"><div style=\"display: table-cell;\"></div><div style=\"display: table-cell;\">width&nbsp;=&nbsp;None,</div></div><div class=\"2062\" style=\"display: none;\"><div style=\"display: table-cell;\"></div><div style=\"display: table-cell;\">width_policy&nbsp;=&nbsp;'auto')</div></div></div>\n",
       "<script>\n",
       "(function() {\n",
       "  let expanded = false;\n",
       "  const ellipsis = document.getElementById(\"2063\");\n",
       "  ellipsis.addEventListener(\"click\", function() {\n",
       "    const rows = document.getElementsByClassName(\"2062\");\n",
       "    for (let i = 0; i < rows.length; i++) {\n",
       "      const el = rows[i];\n",
       "      el.style.display = expanded ? \"none\" : \"table-row\";\n",
       "    }\n",
       "    ellipsis.innerHTML = expanded ? \"&hellip;)\" : \"&lsaquo;&lsaquo;&lsaquo;\";\n",
       "    expanded = !expanded;\n",
       "  });\n",
       "})();\n",
       "</script>\n"
      ],
      "text/plain": [
       "Row(id='1449', ...)"
      ]
     },
     "execution_count": 10,
     "metadata": {},
     "output_type": "execute_result"
    }
   ],
   "source": [
    "bt.plot()"
   ]
  },
  {
   "cell_type": "markdown",
   "metadata": {},
   "source": [
    "### Optimization"
   ]
  },
  {
   "cell_type": "code",
   "execution_count": 12,
   "metadata": {},
   "outputs": [
    {
     "name": "stderr",
     "output_type": "stream",
     "text": [
      "                                               \r"
     ]
    },
    {
     "data": {
      "text/html": [
       "<div style=\"display: table;\"><div style=\"display: table-row;\"><div style=\"display: table-cell;\"><b title=\"bokeh.models.layouts.Row\">Row</b>(</div><div style=\"display: table-cell;\">id&nbsp;=&nbsp;'2511', <span id=\"3125\" style=\"cursor: pointer;\">&hellip;)</span></div></div><div class=\"3124\" style=\"display: none;\"><div style=\"display: table-cell;\"></div><div style=\"display: table-cell;\">align&nbsp;=&nbsp;'start',</div></div><div class=\"3124\" style=\"display: none;\"><div style=\"display: table-cell;\"></div><div style=\"display: table-cell;\">aspect_ratio&nbsp;=&nbsp;None,</div></div><div class=\"3124\" style=\"display: none;\"><div style=\"display: table-cell;\"></div><div style=\"display: table-cell;\">background&nbsp;=&nbsp;None,</div></div><div class=\"3124\" style=\"display: none;\"><div style=\"display: table-cell;\"></div><div style=\"display: table-cell;\">children&nbsp;=&nbsp;[GridBox(id='2508', ...), ToolbarBox(id='2510', ...)],</div></div><div class=\"3124\" style=\"display: none;\"><div style=\"display: table-cell;\"></div><div style=\"display: table-cell;\">cols&nbsp;=&nbsp;'auto',</div></div><div class=\"3124\" style=\"display: none;\"><div style=\"display: table-cell;\"></div><div style=\"display: table-cell;\">css_classes&nbsp;=&nbsp;[],</div></div><div class=\"3124\" style=\"display: none;\"><div style=\"display: table-cell;\"></div><div style=\"display: table-cell;\">disabled&nbsp;=&nbsp;False,</div></div><div class=\"3124\" style=\"display: none;\"><div style=\"display: table-cell;\"></div><div style=\"display: table-cell;\">height&nbsp;=&nbsp;None,</div></div><div class=\"3124\" style=\"display: none;\"><div style=\"display: table-cell;\"></div><div style=\"display: table-cell;\">height_policy&nbsp;=&nbsp;'auto',</div></div><div class=\"3124\" style=\"display: none;\"><div style=\"display: table-cell;\"></div><div style=\"display: table-cell;\">js_event_callbacks&nbsp;=&nbsp;{},</div></div><div class=\"3124\" style=\"display: none;\"><div style=\"display: table-cell;\"></div><div style=\"display: table-cell;\">js_property_callbacks&nbsp;=&nbsp;{},</div></div><div class=\"3124\" style=\"display: none;\"><div style=\"display: table-cell;\"></div><div style=\"display: table-cell;\">margin&nbsp;=&nbsp;(0, 0, 0, 0),</div></div><div class=\"3124\" style=\"display: none;\"><div style=\"display: table-cell;\"></div><div style=\"display: table-cell;\">max_height&nbsp;=&nbsp;None,</div></div><div class=\"3124\" style=\"display: none;\"><div style=\"display: table-cell;\"></div><div style=\"display: table-cell;\">max_width&nbsp;=&nbsp;None,</div></div><div class=\"3124\" style=\"display: none;\"><div style=\"display: table-cell;\"></div><div style=\"display: table-cell;\">min_height&nbsp;=&nbsp;None,</div></div><div class=\"3124\" style=\"display: none;\"><div style=\"display: table-cell;\"></div><div style=\"display: table-cell;\">min_width&nbsp;=&nbsp;None,</div></div><div class=\"3124\" style=\"display: none;\"><div style=\"display: table-cell;\"></div><div style=\"display: table-cell;\">name&nbsp;=&nbsp;None,</div></div><div class=\"3124\" style=\"display: none;\"><div style=\"display: table-cell;\"></div><div style=\"display: table-cell;\">sizing_mode&nbsp;=&nbsp;'stretch_width',</div></div><div class=\"3124\" style=\"display: none;\"><div style=\"display: table-cell;\"></div><div style=\"display: table-cell;\">spacing&nbsp;=&nbsp;0,</div></div><div class=\"3124\" style=\"display: none;\"><div style=\"display: table-cell;\"></div><div style=\"display: table-cell;\">subscribed_events&nbsp;=&nbsp;[],</div></div><div class=\"3124\" style=\"display: none;\"><div style=\"display: table-cell;\"></div><div style=\"display: table-cell;\">syncable&nbsp;=&nbsp;True,</div></div><div class=\"3124\" style=\"display: none;\"><div style=\"display: table-cell;\"></div><div style=\"display: table-cell;\">tags&nbsp;=&nbsp;[],</div></div><div class=\"3124\" style=\"display: none;\"><div style=\"display: table-cell;\"></div><div style=\"display: table-cell;\">visible&nbsp;=&nbsp;True,</div></div><div class=\"3124\" style=\"display: none;\"><div style=\"display: table-cell;\"></div><div style=\"display: table-cell;\">width&nbsp;=&nbsp;None,</div></div><div class=\"3124\" style=\"display: none;\"><div style=\"display: table-cell;\"></div><div style=\"display: table-cell;\">width_policy&nbsp;=&nbsp;'auto')</div></div></div>\n",
       "<script>\n",
       "(function() {\n",
       "  let expanded = false;\n",
       "  const ellipsis = document.getElementById(\"3125\");\n",
       "  ellipsis.addEventListener(\"click\", function() {\n",
       "    const rows = document.getElementsByClassName(\"3124\");\n",
       "    for (let i = 0; i < rows.length; i++) {\n",
       "      const el = rows[i];\n",
       "      el.style.display = expanded ? \"none\" : \"table-row\";\n",
       "    }\n",
       "    ellipsis.innerHTML = expanded ? \"&hellip;)\" : \"&lsaquo;&lsaquo;&lsaquo;\";\n",
       "    expanded = !expanded;\n",
       "  });\n",
       "})();\n",
       "</script>\n"
      ],
      "text/plain": [
       "Row(id='2511', ...)"
      ]
     },
     "execution_count": 12,
     "metadata": {},
     "output_type": "execute_result"
    }
   ],
   "source": [
    "optim = bt.optimize(ShortTerm_SMA_Window = range(50, 160, 10), \n",
    "                    LongTerm_SMA_Window = range(50,160, 10), \n",
    "                    constraint= lambda x: x.LongTerm_SMA_Window - x.ShortTerm_SMA_Window > 20, \n",
    "                    maximize='Return [%]' )\n",
    "bt.plot()"
   ]
  },
  {
   "cell_type": "code",
   "execution_count": 13,
   "metadata": {},
   "outputs": [
    {
     "data": {
      "text/plain": [
       "Start                     2018-01-01 00:00:00\n",
       "End                       2022-06-17 00:00:00\n",
       "Duration                   1628 days 00:00:00\n",
       "Exposure Time [%]                   78.584392\n",
       "Equity Final [$]                112265.598322\n",
       "Equity Peak [$]                 155981.717453\n",
       "Return [%]                          12.265598\n",
       "Buy & Hold Return [%]               21.912395\n",
       "Return (Ann.) [%]                    2.681019\n",
       "Volatility (Ann.) [%]               31.618335\n",
       "Sharpe Ratio                         0.084793\n",
       "Sortino Ratio                        0.127164\n",
       "Calmar Ratio                         0.059379\n",
       "Max. Drawdown [%]                    -45.1513\n",
       "Avg. Drawdown [%]                   -6.469932\n",
       "Max. Drawdown Duration      487 days 00:00:00\n",
       "Avg. Drawdown Duration       51 days 00:00:00\n",
       "# Trades                                    9\n",
       "Win Rate [%]                        55.555556\n",
       "Best Trade [%]                      44.945366\n",
       "Worst Trade [%]                    -25.389261\n",
       "Avg. Trade [%]                       1.316744\n",
       "Max. Trade Duration         287 days 00:00:00\n",
       "Avg. Trade Duration         142 days 00:00:00\n",
       "Profit Factor                        1.473041\n",
       "Expectancy [%]                       3.380978\n",
       "SQN                                  0.175604\n",
       "_strategy                 SMAcross(ShortTe...\n",
       "_equity_curve                             ...\n",
       "_trades                      Size  EntryBa...\n",
       "dtype: object"
      ]
     },
     "execution_count": 13,
     "metadata": {},
     "output_type": "execute_result"
    }
   ],
   "source": [
    "optim"
   ]
  }
 ],
 "metadata": {
  "interpreter": {
   "hash": "48e4ea11381a31c2d275b6c719b15ddb9313194b71994cea782ec5a9fea096e0"
  },
  "kernelspec": {
   "display_name": "Python 3.10.4 64-bit (windows store)",
   "language": "python",
   "name": "python3"
  },
  "language_info": {
   "codemirror_mode": {
    "name": "ipython",
    "version": 3
   },
   "file_extension": ".py",
   "mimetype": "text/x-python",
   "name": "python",
   "nbconvert_exporter": "python",
   "pygments_lexer": "ipython3",
   "version": "3.10.5"
  }
 },
 "nbformat": 4,
 "nbformat_minor": 2
}
