{
 "cells": [
  {
   "cell_type": "markdown",
   "metadata": {},
   "source": [
    "\n",
    "# Making Instagram Reels in Python "
   ]
  },
  {
   "cell_type": "markdown",
   "metadata": {},
   "source": [
    "\n",
    "## Introduction"
   ]
  },
  {
   "cell_type": "markdown",
   "metadata": {},
   "source": [
    "Video Editing is the process of editing a video file. This Video file could be in any video format like mp4, mov, avi, etc. You can take the input video and process it using python. How you process it depends totally on you.\n",
    "\n",
    "In this notebook, we will use various libraries as well as our own functions to get the desired result.\n",
    "We want the following options:\n",
    "1. Importing Video\n",
    "2. Generating Images from Video\n",
    "3. Generating Video from Images\n",
    "4. Create GIF from images/video\n",
    "5. Cropping video to create sub-clip\n",
    "6. Audio Mixing\n",
    "7. Text Overlay\n",
    "8. Cropping Video based on Dimensions (Insta Reel Dimensions: 1080 pixels x 1920 pixels)"
   ]
  },
  {
   "cell_type": "markdown",
   "metadata": {},
   "source": [
    "## Requirements"
   ]
  },
  {
   "cell_type": "markdown",
   "metadata": {},
   "source": [
    "Obviously you need a laptop or computer which any operating system installed. You can have Mac OS, Linux and Windows, any of them will work.\n",
    "\n",
    "Next you need Python. We are using Python 3.10 version. Although our program will work with any version of python 3. \n",
    "Python comes pre-installed on Mac OS X so you can start using directly. You might want to download and install newer version of python if it is not python 3.1 or above.\n",
    "You can download python from https://www.python.org/downloads/ \n",
    "Follow the installation instructions mentioned on the website.\n",
    "\n",
    "After installing python, we need a few more libraries which you can install using pip utility.\n"
   ]
  },
  {
   "cell_type": "markdown",
   "metadata": {},
   "source": [
    "Install pip3 on Windows using the Following Command:"
   ]
  },
  {
   "cell_type": "code",
   "execution_count": null,
   "metadata": {},
   "outputs": [],
   "source": [
    "python -m pip3 install pip==19.0"
   ]
  },
  {
   "cell_type": "markdown",
   "metadata": {},
   "source": [
    "Install pip3 on Ubuntu or Debian Linux systems using the following command.\n",
    "Open a new Terminal window and enter "
   ]
  },
  {
   "cell_type": "code",
   "execution_count": null,
   "metadata": {},
   "outputs": [],
   "source": [
    "sudo apt-get install python3-pip"
   ]
  },
  {
   "cell_type": "markdown",
   "metadata": {},
   "source": [
    "Install Following libraries"
   ]
  },
  {
   "cell_type": "code",
   "execution_count": null,
   "metadata": {},
   "outputs": [],
   "source": [
    "pip install moviepy os numpy pandas pillow"
   ]
  },
  {
   "cell_type": "markdown",
   "metadata": {},
   "source": [
    "## 1.1  Importing Video"
   ]
  },
  {
   "cell_type": "markdown",
   "metadata": {},
   "source": [
    "Generally your video is stored in your phone or your camera. Transfer the video from the source destination to your laptop where you are running this python program.\n",
    "\n",
    "We will create a function that can import file in any format."
   ]
  },
  {
   "cell_type": "code",
   "execution_count": 1,
   "metadata": {},
   "outputs": [],
   "source": [
    "import moviepy.editor as mpy\n",
    "from moviepy.editor import *\n",
    "from PIL import Image\n",
    "import os"
   ]
  },
  {
   "cell_type": "code",
   "execution_count": 2,
   "metadata": {},
   "outputs": [
    {
     "name": "stdout",
     "output_type": "stream",
     "text": [
      "c:\\Users\\JYOTI\\Documents\\code\\gitwork\\Upload Later\\VideoEditing\n",
      "c:\\Users\\JYOTI\\Documents\\code\\gitwork\\Upload Later\\VideoEditing\\samples\n",
      "c:\\Users\\JYOTI\\Documents\\code\\gitwork\\Upload Later\\VideoEditing\\samples\\inputs\n",
      "c:\\Users\\JYOTI\\Documents\\code\\gitwork\\Upload Later\\VideoEditing\\samples\\outputs\n"
     ]
    }
   ],
   "source": [
    "current_dir = os.getcwd()\n",
    "print(current_dir)\n",
    "\n",
    "SAMPLE_DIR = os.path.join(current_dir, \"samples\")\n",
    "SAMPLE_INPUTS = os.path.join(SAMPLE_DIR, \"inputs\")\n",
    "SAMPLE_OUTPUTS = os.path.join(SAMPLE_DIR, 'outputs')\n",
    "\n",
    "print(SAMPLE_DIR)\n",
    "print(SAMPLE_INPUTS)\n",
    "print(SAMPLE_OUTPUTS)"
   ]
  },
  {
   "cell_type": "markdown",
   "metadata": {},
   "source": [
    "Function to import video and print its details"
   ]
  },
  {
   "cell_type": "code",
   "execution_count": 3,
   "metadata": {},
   "outputs": [
    {
     "name": "stdout",
     "output_type": "stream",
     "text": [
      "Filename:             demo.mp4\n",
      "File Path:            c:\\Users\\JYOTI\\Documents\\code\\gitwork\\Upload Later\\VideoEditing\\samples\\inputs\\demo.mp4\n",
      "Frames per Second:    50.0\n",
      "Number of Frames:     1309\n",
      "Duration of clip (in seconds):      26.16\n"
     ]
    }
   ],
   "source": [
    "def import_video(VID_PATH, vid_name):\n",
    "    \"\"\"\n",
    "    Input:  VID_PATH    // Gives the Path of video\n",
    "            vid_name    // File name of video with extension\n",
    "    \n",
    "    Output: function does not return anything\n",
    "\n",
    "    Description:\n",
    "        This function imports the video and prints its following details:\n",
    "            - Number of Frames (nframes)\n",
    "            - Frames per Second (fps)\n",
    "            - Duration of clip in seconds(duration)\n",
    "    \"\"\"\n",
    "    current_dir = os.getcwd()\n",
    "\n",
    "    if VID_PATH == \"\":\n",
    "        VID_PATH = current_dir\n",
    "    \n",
    "    source_path = os.path.join(VID_PATH, vid_name )\n",
    "    clip = VideoFileClip(source_path)\n",
    "    fps = clip.reader.fps\n",
    "    nframes = clip.reader.nframes\n",
    "    duration = clip.duration\n",
    "    clip_filename = clip.filename\n",
    "    print(\"Filename:            \", vid_name)\n",
    "    print(\"File Path:           \", clip_filename)\n",
    "    print(\"Frames per Second:   \",fps)\n",
    "    print(\"Number of Frames:    \",nframes)\n",
    "    print(\"Duration of clip (in seconds):     \",duration)\n",
    "\n",
    "# Function call\n",
    "import_video(SAMPLE_INPUTS, \"demo.mp4\",)"
   ]
  },
  {
   "cell_type": "markdown",
   "metadata": {},
   "source": [
    "## 1.2 Generating Images from Video"
   ]
  },
  {
   "cell_type": "markdown",
   "metadata": {},
   "source": [
    "Making jpg for each second of video"
   ]
  },
  {
   "cell_type": "code",
   "execution_count": null,
   "metadata": {},
   "outputs": [],
   "source": [
    "source_path = os.path.join(SAMPLE_INPUTS, \"demo.mp4\")\n",
    "thumbnail_dir = os.path.join(SAMPLE_OUTPUTS, \"thumbnails\")\n",
    "os.makedirs(thumbnail_dir, exist_ok=True)\n",
    "\n",
    "clip = VideoFileClip(source_path)\n",
    "print(clip.reader.fps) # fps : Frames per second\n",
    "print(clip.reader.nframes) # number of frames\n",
    "print(clip.duration) # Duration in seconds\n",
    "\n",
    "# Editing video by each frame\n",
    "duration = clip.duration\n",
    "max_duration = int(duration) + 1\n",
    "for i in range(0, max_duration):\n",
    "    print(f\"frame at {i} seconds\")\n",
    "    frame = clip.get_frame(i)\n",
    "    #print(frame)\n",
    "    new_img_filepath = os.path.join(thumbnail_dir, f\"{i}.jpg\")\n",
    "    print(new_img_filepath)\n",
    "    new_img = Image.fromarray(frame)\n",
    "    print(\"new_img created\")\n",
    "    new_img.save(new_img_filepath)\n",
    "# In the ouput we are getting a numpy array with color value of each individual pixel\n",
    "# We can use a package called Pillow to Turn each frame into its own image\n"
   ]
  },
  {
   "cell_type": "markdown",
   "metadata": {},
   "source": [
    "Making Jpg for each frame"
   ]
  },
  {
   "cell_type": "code",
   "execution_count": null,
   "metadata": {},
   "outputs": [],
   "source": [
    "frame_thumbnail_dir = os.path.join(SAMPLE_OUTPUTS, \"frame-thumbnails\")\n",
    "os.makedirs(frame_thumbnail_dir, exist_ok=True)\n",
    "\n",
    "for i, frame in enumerate(clip.iter_frames()):\n",
    "    new_img_filepath = os.path.join(frame_thumbnail_dir, f\"{i}.jpg\")\n",
    "    print(new_img_filepath)\n",
    "    new_img = Image.fromarray(frame)\n",
    "    print(\"new_img created\")\n",
    "    new_img.save(new_img_filepath)\n",
    "\n",
    "# Note: This way of getting image is highly inefficient\n",
    "# instead we will iterate through frames for more efficiency"
   ]
  },
  {
   "cell_type": "markdown",
   "metadata": {},
   "source": [
    "Finding duration using fps and nframes"
   ]
  },
  {
   "cell_type": "code",
   "execution_count": 20,
   "metadata": {},
   "outputs": [
    {
     "name": "stdout",
     "output_type": "stream",
     "text": [
      "26.18\n"
     ]
    }
   ],
   "source": [
    "fps = clip.reader.fps\n",
    "nframes = clip.reader.nframes\n",
    "seconds = nframes / (fps * 1.0)\n",
    "\n",
    "print(seconds)"
   ]
  },
  {
   "cell_type": "markdown",
   "metadata": {},
   "source": [
    "Function to create image for every half second"
   ]
  },
  {
   "cell_type": "code",
   "execution_count": null,
   "metadata": {},
   "outputs": [],
   "source": [
    "frame_per_half_second_thumbnail_dir = os.path.join(SAMPLE_OUTPUTS, \"fphs-thumbnails\")\n",
    "os.makedirs(frame_per_half_second_thumbnail_dir, exist_ok=True)\n",
    "\n",
    "for i, frame in enumerate(clip.iter_frames()):\n",
    "    fphs = int(fps/2.0) # frames per half second\n",
    "    if i%fphs == 0 :\n",
    "        current_millisecond = int( (i/fps) * 1000 )\n",
    "        new_img_filepath = os.path.join(frame_per_half_second_thumbnail_dir, f\"{current_millisecond}.jpg\")\n",
    "        print(new_img_filepath)\n",
    "        new_img = Image.fromarray(frame)\n",
    "        print(\"new_img created\")\n",
    "        new_img.save(new_img_filepath)"
   ]
  },
  {
   "cell_type": "markdown",
   "metadata": {},
   "source": [
    "Function to Generate images per seconds"
   ]
  },
  {
   "cell_type": "code",
   "execution_count": 24,
   "metadata": {},
   "outputs": [],
   "source": [
    "def create_img_from_video(VID_PATH, vid_name, IMAGE_PATH, image_name, per_seconds=1):\n",
    "    \"\"\"\n",
    "    Input:  VID_PATH    // Gives the Path of video\n",
    "            vid_name    // File name of video with extension\n",
    "            IMAGE_PATH  // Gives the path where Images needs to be saved\n",
    "                        // If this is empty, then current working directory is taken\n",
    "            image_name  // File name of Images\n",
    "            per_seconds // Number of images that needs to be generated in each second\n",
    "    \n",
    "    Output: function does not return anything\n",
    "\n",
    "    Description:\n",
    "        This function creates a set of images in the 'img-thumbnail' folder inside the IMAGE_PATH\n",
    "        The number of images generated depends the value of 'per_second' passed as input.\n",
    "        If the value is 1 then the images generated will be equal the length of video in seconds\n",
    "        If the value is 2 then the images generates will be twice the length of video in seconds and so on.\n",
    "    \"\"\"\n",
    "    current_dir = os.getcwd()\n",
    "\n",
    "    if VID_PATH == \"\":\n",
    "        VID_PATH = current_dir\n",
    "    if IMAGE_PATH == \"\":\n",
    "        IMAGE_PATH = current_dir\n",
    "    \n",
    "    source_path = os.path.join(VID_PATH, vid_name )\n",
    "    clip = VideoFileClip(source_path)\n",
    "    fps = clip.reader.fps\n",
    "    \n",
    "    image_from_vid_dir = os.path.join(IMAGE_PATH, \"img-thumbnails\")\n",
    "    os.makedirs(image_from_vid_dir, exist_ok=True)\n",
    "\n",
    "    for i, frame in enumerate(clip.iter_frames()):\n",
    "        fphs = int(fps/float(per_seconds)) # frames per second\n",
    "        if i%fphs == 0 :\n",
    "            current_millisecond = int( (i/fps) * 1000 )\n",
    "            new_img_filepath = os.path.join(image_from_vid_dir, f\"{image_name}-{current_millisecond}.jpg\")\n",
    "            new_img = Image.fromarray(frame)\n",
    "            new_img.save(new_img_filepath)\n",
    "\n",
    "# Function call\n",
    "create_img_from_video(SAMPLE_INPUTS, \"demo.mp4\", SAMPLE_OUTPUTS, \"new\",  per_seconds=2)\n"
   ]
  },
  {
   "cell_type": "markdown",
   "metadata": {},
   "source": [
    "## 1.3 Generating Video from Images"
   ]
  },
  {
   "cell_type": "markdown",
   "metadata": {},
   "source": [
    "Geneting Video from Images in a Directory"
   ]
  },
  {
   "cell_type": "code",
   "execution_count": 34,
   "metadata": {},
   "outputs": [
    {
     "name": "stdout",
     "output_type": "stream",
     "text": [
      "Moviepy - Building video c:\\Users\\JYOTI\\Documents\\code\\gitwork\\PythonProjects\\VideoEditing\\samples\\outputs\\new3.mp4.\n",
      "Moviepy - Writing video c:\\Users\\JYOTI\\Documents\\code\\gitwork\\PythonProjects\\VideoEditing\\samples\\outputs\\new3.mp4\n",
      "\n"
     ]
    },
    {
     "name": "stderr",
     "output_type": "stream",
     "text": [
      "                                                            \r"
     ]
    },
    {
     "name": "stdout",
     "output_type": "stream",
     "text": [
      "Moviepy - Done !\n",
      "Moviepy - video ready c:\\Users\\JYOTI\\Documents\\code\\gitwork\\PythonProjects\\VideoEditing\\samples\\outputs\\new3.mp4\n"
     ]
    }
   ],
   "source": [
    "def create_video_from_img(IMAGE_PATH, image_dir, VID_PATH, vid_name, fps=2):\n",
    "    \"\"\"\n",
    "    Input:  IMAGE_PATH  // Gives the path where Image directory\n",
    "                        // If this is empty, then empty video is created\n",
    "            image_name  // File name of Images\n",
    "            VID_PATH    // Gives the Path of video\n",
    "            vid_name    // File name of video with extension\n",
    "            \n",
    "            per_seconds // Number of images that needs to be generated in each second\n",
    "    \n",
    "    Output: function does not return anything\n",
    "\n",
    "    Description:\n",
    "        This function creates a video from images present in directory 'image_dir' present at path 'IMAGE_PATH'\n",
    "    \"\"\"\n",
    "    current_dir = os.getcwd()\n",
    "\n",
    "    if VID_PATH == \"\":\n",
    "        VID_PATH = current_dir\n",
    "    if IMAGE_PATH == \"\":\n",
    "        IMAGE_PATH = current_dir\n",
    "\n",
    "    output_video = os.path.join(VID_PATH, vid_name)\n",
    "\n",
    "    image_directory = os.path.join(IMAGE_PATH, image_dir)\n",
    "    os.makedirs(image_directory, exist_ok=True)\n",
    "    \n",
    "\n",
    "    ## This commented lines creates video but images are shuffled\n",
    "    #this_dir = os.listdir(image_directory)\n",
    "    #filepaths = [ os.path.join(image_directory, fname) for fname in this_dir if fname.endswith(\"jpg\")]\n",
    "    #clip = ImageSequenceClip(filepaths, fps)\n",
    "    #clip.write_videofile(output_video)\n",
    "\n",
    "    # To make sure images are not shuffled we \n",
    "    directory = {}\n",
    "    for root, dirs, files in os.walk(image_directory):\n",
    "        for fname in files:\n",
    "            filepath = os.path.join(root, fname)\n",
    "            try:\n",
    "                key = float(fname.replace(\".jpg\", \"\"))\n",
    "            except:\n",
    "                key = None\n",
    "            if key != None:\n",
    "                directory[key] = filepath\n",
    "    # new loop\n",
    "    new_paths = []\n",
    "    for k in sorted(directory.keys()):\n",
    "        #print(k)\n",
    "        filepath = directory[k]\n",
    "        new_paths.append(filepath)\n",
    "    #clip = ImageSequenceClip(new_paths, fps)\n",
    "    #clip.write_videofile(output_video)\n",
    "    my_clips = []\n",
    "    for path in list(new_paths):\n",
    "        frame = ImageClip(path)\n",
    "        my_clips.append(frame.img)\n",
    "    clip = ImageSequenceClip(my_clips, fps)\n",
    "    clip.write_videofile(output_video)\n",
    "\n",
    "# Function call\n",
    "create_video_from_img(SAMPLE_OUTPUTS, \"thumbnails\", SAMPLE_OUTPUTS, \"new3.mp4\",  fps=1)\n"
   ]
  },
  {
   "cell_type": "markdown",
   "metadata": {},
   "source": [
    "## 1.4 Create GIF from image/video"
   ]
  },
  {
   "cell_type": "markdown",
   "metadata": {},
   "source": [
    "Turn a video into sub clip and then a clip"
   ]
  },
  {
   "cell_type": "code",
   "execution_count": 3,
   "metadata": {},
   "outputs": [
    {
     "name": "stdout",
     "output_type": "stream",
     "text": [
      "MoviePy - Building file  c:\\Users\\JYOTI\\Documents\\code\\gitwork\\PythonProjects\\VideoEditing\\samples\\outputs\\gifs\\subclip-ffmpeg.gif\n",
      "MoviePy - - Generating GIF frames.\n"
     ]
    },
    {
     "name": "stderr",
     "output_type": "stream",
     "text": [
      "                                                             "
     ]
    },
    {
     "name": "stdout",
     "output_type": "stream",
     "text": [
      "MoviePy - - File ready: c:\\Users\\JYOTI\\Documents\\code\\gitwork\\PythonProjects\\VideoEditing\\samples\\outputs\\gifs\\subclip-ffmpeg.gif.\n"
     ]
    },
    {
     "name": "stderr",
     "output_type": "stream",
     "text": [
      "\r"
     ]
    }
   ],
   "source": [
    "from moviepy.editor import * #ImageClip\n",
    "from PIL import Image\n",
    "from moviepy.video.fx.all import crop\n",
    "\n",
    "current_dir = os.getcwd()\n",
    "SAMPLE_DIR = os.path.join(current_dir, \"samples\")\n",
    "SAMPLE_INPUTS = os.path.join(SAMPLE_DIR, \"inputs\")\n",
    "SAMPLE_OUTPUTS = os.path.join(SAMPLE_DIR, 'outputs')\n",
    "\n",
    "source_path = os.path.join(SAMPLE_INPUTS, \"demo.mp4\" )\n",
    "GIF_DIR = os.path.join(SAMPLE_OUTPUTS, \"gifs\")\n",
    "os.makedirs(GIF_DIR, exist_ok=True)\n",
    "\n",
    "output_path = os.path.join(GIF_DIR, \"subclip-ffmpeg.gif\" )\n",
    "\n",
    "clip = VideoFileClip(source_path)\n",
    "fps = clip.reader.fps\n",
    "\n",
    "# Creating Subclips\n",
    "subclip_new = clip.subclip(10, 15) # Subclip between 10s to 20s \n",
    "\n",
    "#Resize clip\n",
    "subclip_new = subclip_new.resize(width=320) # Resizes without breaking the scale\n",
    "subclip_new.write_gif(output_path, fps=20, program='ffmpeg') # fps for how choppy you want your video to be\n",
    "                                                            # default program is imageio, but you can use ffmpeg\n",
    "# ffpmeg gives blurry videos than imageio\n",
    "# ffmpeg is faster than imageio\n",
    "# ffmpeg creates gIF with smaller size than imageio"
   ]
  },
  {
   "cell_type": "markdown",
   "metadata": {},
   "source": [
    "## 1.5 Cropping Video to create smaller sub-clip"
   ]
  },
  {
   "cell_type": "code",
   "execution_count": 5,
   "metadata": {},
   "outputs": [
    {
     "name": "stdout",
     "output_type": "stream",
     "text": [
      "MoviePy - Building file  c:\\Users\\JYOTI\\Documents\\code\\gitwork\\PythonProjects\\VideoEditing\\samples\\outputs\\gifs\\cropped.gif\n",
      "MoviePy - - Generating GIF frames.\n"
     ]
    },
    {
     "name": "stderr",
     "output_type": "stream",
     "text": [
      "                                                              "
     ]
    },
    {
     "name": "stdout",
     "output_type": "stream",
     "text": [
      "MoviePy - - File ready: c:\\Users\\JYOTI\\Documents\\code\\gitwork\\PythonProjects\\VideoEditing\\samples\\outputs\\gifs\\cropped.gif.\n"
     ]
    },
    {
     "name": "stderr",
     "output_type": "stream",
     "text": [
      "\r"
     ]
    }
   ],
   "source": [
    "from moviepy.editor import * #ImageClip\n",
    "from PIL import Image\n",
    "from moviepy.video.fx.all import crop\n",
    "\n",
    "current_dir = os.getcwd()\n",
    "SAMPLE_DIR = os.path.join(current_dir, \"samples\")\n",
    "SAMPLE_INPUTS = os.path.join(SAMPLE_DIR, \"inputs\")\n",
    "SAMPLE_OUTPUTS = os.path.join(SAMPLE_DIR, 'outputs')\n",
    "\n",
    "source_path = os.path.join(SAMPLE_INPUTS, \"demo.mp4\" )\n",
    "GIF_DIR = os.path.join(SAMPLE_OUTPUTS, \"gifs\")\n",
    "os.makedirs(GIF_DIR, exist_ok=True)\n",
    "\n",
    "output_path = os.path.join(GIF_DIR, \"cropped.gif\" )\n",
    "\n",
    "clip = VideoFileClip(source_path)\n",
    "fps = clip.reader.fps\n",
    "\n",
    "# Taking Video Width and Height\n",
    "w, h = clip.size\n",
    "new_clip = clip.subclip(10, 15)\n",
    "\n",
    "# Cropping th video\n",
    "square_cropped_clip = crop(new_clip, width=320, height=320, x_center=w/2, y_center=h/2)\n",
    "square_cropped_clip.write_gif(output_path, fps=fps, program='ffmpeg')\n"
   ]
  },
  {
   "cell_type": "markdown",
   "metadata": {},
   "source": [
    "## 1.6 Audio Mixing"
   ]
  },
  {
   "cell_type": "code",
   "execution_count": 10,
   "metadata": {},
   "outputs": [
    {
     "name": "stdout",
     "output_type": "stream",
     "text": [
      "MoviePy - Writing audio in c:\\Users\\JYOTI\\Documents\\code\\gitwork\\PythonProjects\\VideoEditing\\samples\\outputs\\mixed-audio\\og.mp3\n"
     ]
    },
    {
     "name": "stderr",
     "output_type": "stream",
     "text": [
      "                                                                    \r"
     ]
    },
    {
     "name": "stdout",
     "output_type": "stream",
     "text": [
      "MoviePy - Done.\n",
      "MoviePy - Writing audio in c:\\Users\\JYOTI\\Documents\\code\\gitwork\\PythonProjects\\VideoEditing\\samples\\outputs\\mixed-audio\\final_audio.mp3\n"
     ]
    },
    {
     "name": "stderr",
     "output_type": "stream",
     "text": [
      "                                                                   \r"
     ]
    },
    {
     "name": "stdout",
     "output_type": "stream",
     "text": [
      "MoviePy - Done.\n",
      "Moviepy - Building video c:\\Users\\JYOTI\\Documents\\code\\gitwork\\PythonProjects\\VideoEditing\\samples\\outputs\\mixed-audio\\final_video.mp4.\n",
      "MoviePy - Writing audio in final_videoTEMP_MPY_wvf_snd.mp3\n"
     ]
    },
    {
     "name": "stderr",
     "output_type": "stream",
     "text": [
      "                                                                   \r"
     ]
    },
    {
     "name": "stdout",
     "output_type": "stream",
     "text": [
      "MoviePy - Done.\n",
      "Moviepy - Writing video c:\\Users\\JYOTI\\Documents\\code\\gitwork\\PythonProjects\\VideoEditing\\samples\\outputs\\mixed-audio\\final_video.mp4\n",
      "\n"
     ]
    },
    {
     "name": "stderr",
     "output_type": "stream",
     "text": [
      "                                                                \r"
     ]
    },
    {
     "name": "stdout",
     "output_type": "stream",
     "text": [
      "Moviepy - Done !\n",
      "Moviepy - video ready c:\\Users\\JYOTI\\Documents\\code\\gitwork\\PythonProjects\\VideoEditing\\samples\\outputs\\mixed-audio\\final_video.mp4\n"
     ]
    }
   ],
   "source": [
    "from moviepy.editor import * #ImageClip\n",
    "from PIL import Image\n",
    "from moviepy.video.fx.all import crop\n",
    "from moviepy.audio.fx.all import volumex\n",
    "\n",
    "current_dir = os.getcwd()\n",
    "SAMPLE_DIR = os.path.join(current_dir, \"samples\")\n",
    "SAMPLE_INPUTS = os.path.join(SAMPLE_DIR, \"inputs\")\n",
    "SAMPLE_OUTPUTS = os.path.join(SAMPLE_DIR, 'outputs')\n",
    "\n",
    "source_path = os.path.join(SAMPLE_INPUTS, \"demo.mp4\" )\n",
    "MIX_AUDIO_DIR = os.path.join(SAMPLE_OUTPUTS, \"mixed-audio\")\n",
    "os.makedirs(MIX_AUDIO_DIR, exist_ok=True)\n",
    "OG_AUDIO_PATH = os.path.join(MIX_AUDIO_DIR, \"og.mp3\")\n",
    "\n",
    "source_audio_path = os.path.join(SAMPLE_INPUTS, \"audio.mp3\" )\n",
    "\n",
    "audio_output_path = os.path.join(MIX_AUDIO_DIR, \"final_audio.mp3\")\n",
    "video_output_path = os.path.join(MIX_AUDIO_DIR, \"final_video.mp4\")\n",
    "\n",
    "video_clip = VideoFileClip(source_path)\n",
    "fps = video_clip.reader.fps\n",
    "\n",
    "original_audio = video_clip.audio\n",
    "original_audio.write_audiofile(OG_AUDIO_PATH)\n",
    "\n",
    "background_audio_clip = AudioFileClip(source_audio_path)\n",
    "\n",
    "#making imported audio.mp3 same size as video\n",
    "bg_music = background_audio_clip.subclip(0, video_clip.duration)\n",
    "\n",
    "# Changing volume of music : Method 1\n",
    "# bg_music = bg_music.volumex(0.10)       # 10% of volume\n",
    "# To verify the loudness of audio file by making a new audiofile\n",
    "# bg_music.write_audiofile(output_path)\n",
    "\n",
    "# Changing volume of Music : Method 2\n",
    "bg_music = bg_music.fx(volumex, 0.90)\n",
    "original_audio = original_audio.fx(volumex, 0.40)\n",
    "\n",
    "\n",
    "\n",
    "\n",
    "# Combining two audio clip to create a new audio\n",
    "# Composite layers each audio on top on the other\n",
    "final_audio = CompositeAudioClip([original_audio, bg_music])\n",
    "\n",
    "# Creating final output audio\n",
    "final_audio.write_audiofile(audio_output_path, fps=original_audio.fps)\n",
    "\n",
    "final_clip = video_clip.set_audio(final_audio)\n",
    "final_clip.write_videofile(video_output_path) #   If vodeo is not created then add parameters codec = 'libx264', audio_codec='aac'\n"
   ]
  },
  {
   "cell_type": "markdown",
   "metadata": {},
   "source": [
    "## 1.7 Overlay Text"
   ]
  },
  {
   "cell_type": "code",
   "execution_count": 19,
   "metadata": {},
   "outputs": [
    {
     "name": "stdout",
     "output_type": "stream",
     "text": [
      "Moviepy - Building video c:\\Users\\JYOTI\\Documents\\code\\gitwork\\PythonProjects\\VideoEditing\\samples\\outputs\\mixed-audio\\overlay_text_video_composite.mp4.\n",
      "MoviePy - Writing audio in overlay_text_video_compositeTEMP_MPY_wvf_snd.mp3\n"
     ]
    },
    {
     "name": "stderr",
     "output_type": "stream",
     "text": [
      "                                                                    \r"
     ]
    },
    {
     "name": "stdout",
     "output_type": "stream",
     "text": [
      "MoviePy - Done.\n",
      "Moviepy - Writing video c:\\Users\\JYOTI\\Documents\\code\\gitwork\\PythonProjects\\VideoEditing\\samples\\outputs\\mixed-audio\\overlay_text_video_composite.mp4\n",
      "\n"
     ]
    },
    {
     "name": "stderr",
     "output_type": "stream",
     "text": [
      "                                                                \r"
     ]
    },
    {
     "name": "stdout",
     "output_type": "stream",
     "text": [
      "Moviepy - Done !\n",
      "Moviepy - video ready c:\\Users\\JYOTI\\Documents\\code\\gitwork\\PythonProjects\\VideoEditing\\samples\\outputs\\mixed-audio\\overlay_text_video_composite.mp4\n"
     ]
    }
   ],
   "source": [
    "from moviepy.editor import * #ImageClip\n",
    "from PIL import Image\n",
    "from moviepy.video.fx.all import crop\n",
    "from moviepy.audio.fx.all import volumex\n",
    "\n",
    "current_dir = os.getcwd()\n",
    "SAMPLE_DIR = os.path.join(current_dir, \"samples\")\n",
    "SAMPLE_INPUTS = os.path.join(SAMPLE_DIR, \"inputs\")\n",
    "SAMPLE_OUTPUTS = os.path.join(SAMPLE_DIR, 'outputs')\n",
    "\n",
    "source_path = os.path.join(SAMPLE_INPUTS, \"demo.mp4\" )\n",
    "MIX_AUDIO_DIR = os.path.join(SAMPLE_OUTPUTS, \"mixed-audio\")\n",
    "os.makedirs(MIX_AUDIO_DIR, exist_ok=True)\n",
    "OG_AUDIO_PATH = os.path.join(MIX_AUDIO_DIR, \"og.mp3\")\n",
    "\n",
    "source_audio_path = os.path.join(SAMPLE_INPUTS, \"audio.mp3\" )\n",
    "\n",
    "audio_output_path = os.path.join(MIX_AUDIO_DIR, \"overlay_text_audio.mp3\")\n",
    "video_output_path = os.path.join(MIX_AUDIO_DIR, \"overlay_text_video.mp4\")\n",
    "video_output_path_concatenated = os.path.join(MIX_AUDIO_DIR, \"overlay_text_video_concatenated.mp4\")\n",
    "video_output_path_composite = os.path.join(MIX_AUDIO_DIR, \"overlay_text_video_composite.mp4\")\n",
    "\n",
    "video_clip = VideoFileClip(source_path)\n",
    "fps = video_clip.reader.fps\n",
    "\n",
    "composite_audio_path = os.path.join(MIX_AUDIO_DIR, \"final_audio.mp3\" )\n",
    "\n",
    "\n",
    "original_audio = video_clip.audio\n",
    "#original_audio.write_audiofile(OG_AUDIO_PATH)\n",
    "\n",
    "background_audio_clip = AudioFileClip(source_audio_path) \n",
    "composite_audio = AudioFileClip(composite_audio_path)\n",
    "\n",
    "\n",
    "intro_duration = 5\n",
    "intro_text = TextClip(\"Video Editing with Python\", fontsize=70, color='white', size=video_clip.size)\n",
    "intro_text = intro_text.set_duration(intro_duration)\n",
    "intro_text = intro_text.set_fps(fps)\n",
    "intro_text = intro_text.set_pos(\"center\")\n",
    "\n",
    "# Adding audio to intro text\n",
    "intro_music = background_audio_clip.subclip(0, intro_duration)\n",
    "intro_text = intro_text.set_audio(intro_music)\n",
    "#intro_text.write_videofile(video_output_path)\n",
    "\n",
    "#Combining this intro_text and demo video, where one is after the other\n",
    "# We will use contatenate video clips\n",
    "\n",
    "final_clip = concatenate_videoclips([intro_text, video_clip])\n",
    "#final_clip.write_videofile(video_output_path_concatenated)\n",
    "\n",
    "w, h = video_clip.size\n",
    "\n",
    "# Composite Video : text over video\n",
    "watermark_text = TextClip(\"@photographer_on_weekends\", fontsize=100, color='red', align='East', size=(w,h))\n",
    "watermark_text = watermark_text.set_fps(fps)\n",
    "watermark_text = watermark_text.set_duration(video_clip.reader.duration)\n",
    "watermark_text = watermark_text.set_position((\"bottom\"))\n",
    "\n",
    "composite_video_clip = CompositeVideoClip([watermark_text, video_clip], size=video_clip.size)\n",
    "composite_video_clip = composite_video_clip.set_duration(video_clip.duration)\n",
    "composite_video_clip = composite_video_clip.set_fps(fps)\n",
    "composite_video_clip = composite_video_clip.set_audio(None) \n",
    "composite_video_clip = composite_video_clip.set_audio(composite_audio)\n",
    "\n",
    "\n",
    "overlay_clip = CompositeVideoClip([video_clip, composite_video_clip], size=video_clip.size)\n",
    "overlay_clip = overlay_clip.set_duration(video_clip.duration)\n",
    "overlay_clip = overlay_clip.set_fps(fps)\n",
    "overlay_clip = overlay_clip.set_audio(None) \n",
    "overlay_clip = overlay_clip.set_audio(composite_audio)\n",
    "\n",
    "\n",
    "overlay_clip.write_videofile(video_output_path_composite)\n",
    "\n",
    "\n",
    "\n",
    "\n"
   ]
  },
  {
   "cell_type": "code",
   "execution_count": 24,
   "metadata": {},
   "outputs": [
    {
     "name": "stdout",
     "output_type": "stream",
     "text": [
      "Moviepy - Building video c:\\Users\\JYOTI\\Documents\\code\\gitwork\\PythonProjects\\VideoEditing\\samples\\outputs\\mixed-audio\\sec5.mp4.\n",
      "MoviePy - Writing audio in sec5TEMP_MPY_wvf_snd.mp3\n"
     ]
    },
    {
     "name": "stderr",
     "output_type": "stream",
     "text": [
      "                                                                \r"
     ]
    },
    {
     "name": "stdout",
     "output_type": "stream",
     "text": [
      "MoviePy - Done.\n",
      "Moviepy - Writing video c:\\Users\\JYOTI\\Documents\\code\\gitwork\\PythonProjects\\VideoEditing\\samples\\outputs\\mixed-audio\\sec5.mp4\n",
      "\n"
     ]
    },
    {
     "name": "stderr",
     "output_type": "stream",
     "text": [
      "                                                              \r"
     ]
    },
    {
     "name": "stdout",
     "output_type": "stream",
     "text": [
      "Moviepy - Done !\n",
      "Moviepy - video ready c:\\Users\\JYOTI\\Documents\\code\\gitwork\\PythonProjects\\VideoEditing\\samples\\outputs\\mixed-audio\\sec5.mp4\n",
      "Moviepy - Building video c:\\Users\\JYOTI\\Documents\\code\\gitwork\\PythonProjects\\VideoEditing\\samples\\outputs\\mixed-audio\\sec5_text.mp4.\n",
      "MoviePy - Writing audio in sec5_textTEMP_MPY_wvf_snd.mp3\n"
     ]
    },
    {
     "name": "stderr",
     "output_type": "stream",
     "text": [
      "                                                                  \r"
     ]
    },
    {
     "name": "stdout",
     "output_type": "stream",
     "text": [
      "MoviePy - Done.\n",
      "Moviepy - Writing video c:\\Users\\JYOTI\\Documents\\code\\gitwork\\PythonProjects\\VideoEditing\\samples\\outputs\\mixed-audio\\sec5_text.mp4\n",
      "\n"
     ]
    },
    {
     "name": "stderr",
     "output_type": "stream",
     "text": [
      "                                                              \r"
     ]
    },
    {
     "name": "stdout",
     "output_type": "stream",
     "text": [
      "Moviepy - Done !\n",
      "Moviepy - video ready c:\\Users\\JYOTI\\Documents\\code\\gitwork\\PythonProjects\\VideoEditing\\samples\\outputs\\mixed-audio\\sec5_text.mp4\n",
      "Moviepy - Building video c:\\Users\\JYOTI\\Documents\\code\\gitwork\\PythonProjects\\VideoEditing\\samples\\outputs\\mixed-audio\\sec5_mixed.mp4.\n",
      "MoviePy - Writing audio in sec5_mixedTEMP_MPY_wvf_snd.mp3\n"
     ]
    },
    {
     "name": "stderr",
     "output_type": "stream",
     "text": [
      "                                                                   \r"
     ]
    },
    {
     "name": "stdout",
     "output_type": "stream",
     "text": [
      "MoviePy - Done.\n",
      "Moviepy - Writing video c:\\Users\\JYOTI\\Documents\\code\\gitwork\\PythonProjects\\VideoEditing\\samples\\outputs\\mixed-audio\\sec5_mixed.mp4\n",
      "\n"
     ]
    },
    {
     "name": "stderr",
     "output_type": "stream",
     "text": [
      "                                                              \r"
     ]
    },
    {
     "name": "stdout",
     "output_type": "stream",
     "text": [
      "Moviepy - Done !\n",
      "Moviepy - video ready c:\\Users\\JYOTI\\Documents\\code\\gitwork\\PythonProjects\\VideoEditing\\samples\\outputs\\mixed-audio\\sec5_mixed.mp4\n"
     ]
    }
   ],
   "source": [
    "second5_path = os.path.join(MIX_AUDIO_DIR, \"sec5.mp4\")\n",
    "second5_text_path = os.path.join(MIX_AUDIO_DIR, \"sec5_text.mp4\")\n",
    "comp_path = os.path.join(MIX_AUDIO_DIR, \"sec5_mixed.mp4\")\n",
    "\n",
    "# Putting text over Video\n",
    "second5_video = video_clip.subclip(0, 5)\n",
    "second5_video.write_videofile(second5_path)\n",
    "\n",
    "# TextClip\n",
    "text_clip_duration = 5\n",
    "text_clip_video = TextClip(\"Video Editing with Python\", fontsize=70, color='red', size=second5_video.size)\n",
    "text_clip_video = text_clip_video.set_duration(text_clip_duration)\n",
    "text_clip_video = text_clip_video.set_fps(fps)\n",
    "text_clip_video = text_clip_video.set_pos(\"center\")\n",
    "\n",
    "# Adding audio to intro text\n",
    "text_clip_music = background_audio_clip.subclip(0, text_clip_duration)\n",
    "text_clip_video = text_clip_video.set_audio(text_clip_music)\n",
    "text_clip_video.write_videofile(second5_text_path)\n",
    "\n",
    "#Combining this intro_text and demo video, where one is after the other\n",
    "# We will use contatenate video clips\n",
    "\n",
    "final_clip2 = CompositeVideoClip([second5_video, text_clip_video], size=second5_video.size)\n",
    "final_clip2 = final_clip2.set_fps(fps)\n",
    "\n",
    "final_clip2.write_videofile(comp_path)"
   ]
  },
  {
   "cell_type": "markdown",
   "metadata": {},
   "source": [
    "##  1.8 Crop Video Dimensions"
   ]
  },
  {
   "cell_type": "markdown",
   "metadata": {},
   "source": [
    "We want video in the aspect Ratio 9:16 with a size of 1080 pixels x 1920 pixels.\n",
    "\n",
    "If you choose to show the reel on your feed then it is shown in the aspect ratio of 4:5 and the pixel specs suggested are 1,080 pixels x 1,350 pixels.\n",
    "\n",
    "I would suggest to crop your video in both the sizes to see if you are satisfied with both the looks and if not then we can adjust the video accordingly."
   ]
  },
  {
   "cell_type": "code",
   "execution_count": null,
   "metadata": {},
   "outputs": [],
   "source": [
    "# Let's use clip from previous section i.e. final_clip2\n",
    "from moviepy.video.fx.all import crop\n",
    "\n",
    "cropped_reel_path = os.path.join(SAMPLE_OUTPUTS, \"cropped_reel.mp4\")\n",
    "\n",
    "(w, h) = final_clip2.size\n",
    "cropped_reel = crop(final_clip2,  x_center=w/2 , y_center=h/2, width=1080, height=1920)\n",
    "\n",
    "cropped_reel.write_videofile(cropped_reel_path)"
   ]
  }
 ],
 "metadata": {
  "interpreter": {
   "hash": "48e4ea11381a31c2d275b6c719b15ddb9313194b71994cea782ec5a9fea096e0"
  },
  "kernelspec": {
   "display_name": "Python 3.10.4 64-bit (windows store)",
   "language": "python",
   "name": "python3"
  },
  "language_info": {
   "codemirror_mode": {
    "name": "ipython",
    "version": 3
   },
   "file_extension": ".py",
   "mimetype": "text/x-python",
   "name": "python",
   "nbconvert_exporter": "python",
   "pygments_lexer": "ipython3",
   "version": "3.10.5"
  }
 },
 "nbformat": 4,
 "nbformat_minor": 2
}
